{
 "cells": [
  {
   "cell_type": "code",
   "execution_count": 2,
   "id": "599190aa-91e8-4f24-aaf4-1910461ff433",
   "metadata": {},
   "outputs": [],
   "source": [
    "import urllib\n",
    "import warnings\n",
    "from pathlib import Path as p\n",
    "\n",
    "import pandas as pd\n",
    "from langchain import PromptTemplate\n",
    "from langchain.chains.summarize import load_summarize_chain\n",
    "# from langchain.document_loaders import PyPDFLoader\n",
    "from langchain.llms import VertexAI"
   ]
  },
  {
   "cell_type": "code",
   "execution_count": 4,
   "id": "cf73b4e0-6b64-4c14-a58c-90680692124c",
   "metadata": {},
   "outputs": [
    {
     "name": "stdout",
     "output_type": "stream",
     "text": [
      "zsh:1: 1.38.0 not found\n"
     ]
    }
   ],
   "source": [
    "!pip install google-cloud-aiplatform>=1.38.0"
   ]
  },
  {
   "cell_type": "markdown",
   "id": "d48986ad-2292-43a7-9bf0-09fe0bc2f1a7",
   "metadata": {},
   "source": [
    "# Using MapReduce "
   ]
  },
  {
   "cell_type": "code",
   "execution_count": 5,
   "id": "5966dca5-5af7-45e5-a6c0-382233001673",
   "metadata": {},
   "outputs": [],
   "source": [
    "map_prompt_template = \"\"\"\n",
    "                      Write a summary of this chunk of text that includes the main points and any important details.\n",
    "                      {text}\n",
    "                      \"\"\"\n",
    "\n",
    "map_prompt = PromptTemplate(template=map_prompt_template, input_variables=[\"text\"])\n",
    "\n",
    "combine_prompt_template = \"\"\"\n",
    "                      Write a concise summary of the following text delimited by triple backquotes.\n",
    "                      Return your response in bullet points which covers the key points of the text.\n",
    "                      ```{text}```\n",
    "                      BULLET POINT SUMMARY:\n",
    "                      \"\"\"\n",
    "\n",
    "combine_prompt = PromptTemplate(\n",
    "    template=combine_prompt_template, input_variables=[\"text\"]\n",
    ")"
   ]
  },
  {
   "cell_type": "code",
   "execution_count": null,
   "id": "38a65f21-db4a-4ce9-945c-20a7266ab96a",
   "metadata": {},
   "outputs": [],
   "source": [
    "map_reduce_chain = load_summarize_chain(\n",
    "    vertex_llm_text,\n",
    "    chain_type=\"map_reduce\",\n",
    "    map_prompt=map_prompt,\n",
    "    combine_prompt=combine_prompt,\n",
    "    return_intermediate_steps=True,\n",
    ")"
   ]
  },
  {
   "cell_type": "code",
   "execution_count": null,
   "id": "3b62fa34-d089-4c3d-99ae-318a841c65d3",
   "metadata": {},
   "outputs": [],
   "source": [
    "map_reduce_outputs = map_reduce_chain({\"input_documents\": pages})"
   ]
  },
  {
   "cell_type": "markdown",
   "id": "7c1b81cb-9a30-4479-8fab-54b1c9a4b455",
   "metadata": {},
   "source": [
    "# Sentece Transformers to Optimize Model "
   ]
  },
  {
   "cell_type": "code",
   "execution_count": 7,
   "id": "249d620f-4967-4496-97c9-e8ee0620480c",
   "metadata": {},
   "outputs": [],
   "source": [
    "from sentence_transformers import SentenceTransformer, util\n",
    "import numpy as np\n",
    "\n",
    "# Load a pre-trained Sentence Transformer model\n",
    "model = SentenceTransformer('all-MiniLM-L6-v2')\n",
    "\n",
    "# Synonym dictionary for tag normalization \n",
    "synonym_dict = {\n",
    "    \"key\": [\"value\"]\n",
    "}"
   ]
  },
  {
   "cell_type": "code",
   "execution_count": null,
   "id": "37082508-0ec9-4b3f-8ab0-8095c0d10889",
   "metadata": {},
   "outputs": [],
   "source": [
    "# Normalized Tags\n",
    "print(precompute_synonym_embeddings(synonym_dict, model))"
   ]
  }
 ],
 "metadata": {
  "kernelspec": {
   "display_name": "Python 3 (ipykernel)",
   "language": "python",
   "name": "python3"
  },
  "language_info": {
   "codemirror_mode": {
    "name": "ipython",
    "version": 3
   },
   "file_extension": ".py",
   "mimetype": "text/x-python",
   "name": "python",
   "nbconvert_exporter": "python",
   "pygments_lexer": "ipython3",
   "version": "3.11.5"
  }
 },
 "nbformat": 4,
 "nbformat_minor": 5
}
