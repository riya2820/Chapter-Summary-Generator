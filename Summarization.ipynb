{
 "cells": [
  {
   "cell_type": "markdown",
   "id": "dc8aab1a-2df9-4755-85b4-6fc1c4bb5671",
   "metadata": {},
   "source": [
    "# Book Summarization "
   ]
  },
  {
   "cell_type": "markdown",
   "id": "a3c2bfbd-4582-47f2-a8cb-e9d2b96b6998",
   "metadata": {},
   "source": [
    "5 Levels Of Summarization:\n",
    "\n",
    "1. Summarize a couple sentences - Basic Prompt\n",
    "2. Summarize a couple paragraphs - Prompt Templates\n",
    "3. Summarize a couple pages - Map Reduce\n",
    "4. Summarize an entire book - Best Representation Vectors\n",
    "5. Summarize an unknown amount of text - Agents"
   ]
  },
  {
   "cell_type": "markdown",
   "id": "afe39dc6-767c-4506-923f-2bbf050ee20d",
   "metadata": {},
   "source": [
    "The BRV Steps:\n",
    "\n",
    "Load your book into a single text file\n",
    "Split your text into large-ish chunks\n",
    "Embed your chunks to get vectors\n",
    "Cluster the vectors to see which are similar to each other and likely talk about the same parts of the book\n",
    "Pick embeddings that represent the cluster the most (method: closest to each cluster centroid)\n",
    "Summarize the documents that these embeddings represent"
   ]
  },
  {
   "cell_type": "code",
   "execution_count": 1,
   "id": "599190aa-91e8-4f24-aaf4-1910461ff433",
   "metadata": {},
   "outputs": [],
   "source": [
    "import urllib\n",
    "import warnings\n",
    "from pathlib import Path as p\n",
    "\n",
    "import pandas as pd\n",
    "from langchain import PromptTemplate\n",
    "from langchain.chains.summarize import load_summarize_chain\n",
    "# from langchain.document_loaders import PyPDFLoader\n",
    "from langchain.llms import VertexAI"
   ]
  },
  {
   "cell_type": "code",
   "execution_count": 2,
   "id": "cf73b4e0-6b64-4c14-a58c-90680692124c",
   "metadata": {},
   "outputs": [
    {
     "name": "stdout",
     "output_type": "stream",
     "text": [
      "zsh:1: 1.38.0 not found\n"
     ]
    }
   ],
   "source": [
    "!pip install google-cloud-aiplatform>=1.38.0"
   ]
  },
  {
   "cell_type": "code",
   "execution_count": 2,
   "id": "995682da-929f-4f8e-989c-02031db67fe6",
   "metadata": {},
   "outputs": [],
   "source": [
    "from dotenv import load_dotenv\n",
    "import os\n",
    "\n",
    "load_dotenv()\n",
    "\n",
    "openai_api_key = os.getenv('OPENAI_API_KEY', '')"
   ]
  },
  {
   "cell_type": "markdown",
   "id": "d48986ad-2292-43a7-9bf0-09fe0bc2f1a7",
   "metadata": {},
   "source": [
    "# Using MapReduce "
   ]
  },
  {
   "cell_type": "code",
   "execution_count": 3,
   "id": "d3197cdd-92d9-4e7e-a5f3-f796f81cf70d",
   "metadata": {},
   "outputs": [],
   "source": [
    "from langchain import OpenAI\n",
    "from langchain.chains.summarize import load_summarize_chain\n",
    "from langchain.text_splitter import RecursiveCharacterTextSplitter"
   ]
  },
  {
   "cell_type": "code",
   "execution_count": 15,
   "id": "75f5da02-a77d-4830-8ab1-74966030db69",
   "metadata": {},
   "outputs": [
    {
     "name": "stdout",
     "output_type": "stream",
     "text": [
      "Collecting PyPDF2\n",
      "  Obtaining dependency information for PyPDF2 from https://files.pythonhosted.org/packages/8e/5e/c86a5643653825d3c913719e788e41386bee415c2b87b4f955432f2de6b2/pypdf2-3.0.1-py3-none-any.whl.metadata\n",
      "  Downloading pypdf2-3.0.1-py3-none-any.whl.metadata (6.8 kB)\n",
      "Downloading pypdf2-3.0.1-py3-none-any.whl (232 kB)\n",
      "\u001b[2K   \u001b[90m━━━━━━━━━━━━━━━━━━━━━━━━━━━━━━━━━━━━━━━━\u001b[0m \u001b[32m232.6/232.6 kB\u001b[0m \u001b[31m3.5 MB/s\u001b[0m eta \u001b[36m0:00:00\u001b[0ma \u001b[36m0:00:01\u001b[0m\n",
      "\u001b[?25hInstalling collected packages: PyPDF2\n",
      "Successfully installed PyPDF2-3.0.1\n"
     ]
    }
   ],
   "source": [
    "!pip install PyPDF2"
   ]
  },
  {
   "cell_type": "code",
   "execution_count": 18,
   "id": "fed8fc99-ca7a-44a6-8c2a-bf88b95bcb6e",
   "metadata": {},
   "outputs": [
    {
     "name": "stdout",
     "output_type": "stream",
     "text": [
      "Collecting pdfreader\n",
      "  Downloading pdfreader-0.1.12.tar.gz (2.9 MB)\n",
      "\u001b[2K     \u001b[90m━━━━━━━━━━━━━━━━━━━━━━━━━━━━━━━━━━━━━━━━\u001b[0m \u001b[32m2.9/2.9 MB\u001b[0m \u001b[31m17.4 MB/s\u001b[0m eta \u001b[36m0:00:00\u001b[0m00:01\u001b[0m00:01\u001b[0m\n",
      "\u001b[?25h  Preparing metadata (setup.py) ... \u001b[?25ldone\n",
      "\u001b[?25hCollecting bitarray>=1.1.0 (from pdfreader)\n",
      "  Obtaining dependency information for bitarray>=1.1.0 from https://files.pythonhosted.org/packages/06/60/c1a419f8abd0c9d2641e3e570fc63ad3a87a63ef88a362900e3254f780bc/bitarray-2.9.2-cp311-cp311-macosx_11_0_arm64.whl.metadata\n",
      "  Downloading bitarray-2.9.2-cp311-cp311-macosx_11_0_arm64.whl.metadata (34 kB)\n",
      "Requirement already satisfied: pillow>=7.1.0 in ./miniconda3/lib/python3.11/site-packages (from pdfreader) (10.2.0)\n",
      "Collecting pycryptodome>=3.9.9 (from pdfreader)\n",
      "  Obtaining dependency information for pycryptodome>=3.9.9 from https://files.pythonhosted.org/packages/ff/96/b0d494defb3346378086848a8ece5ddfd138a66c4a05e038fca873b2518c/pycryptodome-3.20.0-cp35-abi3-macosx_10_9_universal2.whl.metadata\n",
      "  Downloading pycryptodome-3.20.0-cp35-abi3-macosx_10_9_universal2.whl.metadata (3.4 kB)\n",
      "Requirement already satisfied: python-dateutil>=2.8.1 in ./miniconda3/lib/python3.11/site-packages (from pdfreader) (2.8.2)\n",
      "Requirement already satisfied: six>=1.5 in ./miniconda3/lib/python3.11/site-packages (from python-dateutil>=2.8.1->pdfreader) (1.16.0)\n",
      "Downloading bitarray-2.9.2-cp311-cp311-macosx_11_0_arm64.whl (124 kB)\n",
      "\u001b[2K   \u001b[90m━━━━━━━━━━━━━━━━━━━━━━━━━━━━━━━━━━━━━━━━\u001b[0m \u001b[32m124.6/124.6 kB\u001b[0m \u001b[31m22.4 MB/s\u001b[0m eta \u001b[36m0:00:00\u001b[0m\n",
      "\u001b[?25hDownloading pycryptodome-3.20.0-cp35-abi3-macosx_10_9_universal2.whl (2.4 MB)\n",
      "\u001b[2K   \u001b[90m━━━━━━━━━━━━━━━━━━━━━━━━━━━━━━━━━━━━━━━━\u001b[0m \u001b[32m2.4/2.4 MB\u001b[0m \u001b[31m7.0 MB/s\u001b[0m eta \u001b[36m0:00:00\u001b[0m00:01\u001b[0m00:01\u001b[0mm\n",
      "\u001b[?25hBuilding wheels for collected packages: pdfreader\n",
      "  Building wheel for pdfreader (setup.py) ... \u001b[?25ldone\n",
      "\u001b[?25h  Created wheel for pdfreader: filename=pdfreader-0.1.12-py3-none-any.whl size=134539 sha256=c8e116885476515f1e2e85e43fd103d630917fb4b1e2ea18e74b29e966a34ee8\n",
      "  Stored in directory: /Users/riyajoshi/Library/Caches/pip/wheels/ae/2a/d7/534c5ec691eece18000ef93a0daedf20821730e771cca259d5\n",
      "Successfully built pdfreader\n",
      "Installing collected packages: bitarray, pycryptodome, pdfreader\n",
      "Successfully installed bitarray-2.9.2 pdfreader-0.1.12 pycryptodome-3.20.0\n"
     ]
    }
   ],
   "source": [
    "!pip install pdfreader"
   ]
  },
  {
   "cell_type": "code",
   "execution_count": 4,
   "id": "e09f34f8-e606-414c-ac7f-4963a00740d3",
   "metadata": {},
   "outputs": [
    {
     "name": "stdout",
     "output_type": "stream",
     "text": [
      "[b'Chapter ID,Chapter Name,Movie ID,Movie Chapter\\r\\n1,Doorstep Delivery,1,1\\r\\n2,The Vanishing Glass,1,2\\r\\n3,Letters from No One,1,3\\r\\n4,Keeper of the Keys,1,4\\r\\n5,Diagon Alley,1,5\\r\\n6,Gringotts,1,6\\r\\n7,Ollivanders,1,7\\r\\n8,The Boy Who Lived,1,8\\r\\n9,Platform 9&\\xbe,1,9\\r\\n10,Ron and Hermione,1,10\\r\\n11,Welcome to Hogwarts,1,11\\r\\n12,The Sorting Hat,1,12\\r\\n13,Nick and Other Residents,1,13\\r\\n14,Potions and Parcels,1,14\\r\\n15,New Seeker,1,15\\r\\n16,Three-Headed Sentinel,1,16\\r\\n17,Facts and Feathers,1,17\\r\\n18,Mountain Troll,1,18\\r\\n19,Quidditch,1,19\\r\\n20,Interference Overcome,1,20\\r\\n21,Christmas Gift,1,21\\r\\n22,Cloaked in darkness,1,22\\r\\n23,The Mirror of Erised,1,23\\r\\n24,Norbert,1,24\\r\\n25,The Forbidden Forest,1,25\\r\\n26,Up to Something,1,26\\r\\n27,Through the Trapdoor,1,27\\r\\n28,Wizard\\'s Chess,1,28\\r\\n29,Sacrifice Play,1,29\\r\\n30,Man With Two Faces,1,30\\r\\n31,Magic Touch,1,31\\r\\n32,Mark of Love,1,32\\r\\n33,House Cup Winner,1,33\\r\\n34,Not Really Going Home,1,34\\r\\n35,In a Cage,2,1\\r\\n36,Dobby\\'s Warning,2,2\\r\\n37,Car Rescue,2,3\\r\\n38,The Burrow,2,4\\r\\n39,To Diagon Alley,2,5\\r\\n40,Flourish and Blotts,2,6\\r\\n41,Flying to Hogwarts,2,7\\r\\n42,Whomping Willow,2,8\\r\\n43,Not Expelled... Today,2,9\\r\\n44,Mandrakes; Ron\\'s Howler,2,10\\r\\n45,Gilderoy Lockhart,2,11\\r\\n46,Mudbloods and Murmurs,2,12\\r\\n47,Writing on the Wall,2,13\\r\\n48,About the Chamber,2,15\\r\\n49,Rogue Bludger,2,16\\r\\n50,No Longer Safe,2,17\\r\\n51,Dueling Club,2,18\\r\\n52,A Parselmouth,2,19\\r\\n53,Nothing to Tell,2,20\\r\\n54,Polyjuice Potion,2,21\\r\\n55,Harry and Ron Transformed,2,22\\r\\n56,The Diary,2,24\\r\\n57,Tom Riddle,2,25\\r\\n58,Petrified,2,27\\r\\n59,Cornelius Fudge,2,29\\r\\n60,Aragog,2,30\\r\\n61,Spider Attack,2,31\\r\\n62,Missing,2,32\\r\\n63,Chamber of Secrets,2,33\\r\\n64,Backfire,2,34\\r\\n65,Heir of Slytherin,2,35\\r\\n66,The Basilisk,2,36\\r\\n67,Healing Powers,2,37\\r\\n68,Out Of The Hat,2,38\\r\\n69,Dobby\\'s Reward,2,39\\r\\n70,Welcome Back,2,40\\r\\n71,Under Covers Prologue,3,1\\r\\n72,Aunt Marge\\'s Big Mistake,3,2\\r\\n73,The Knight Bus,3,3\\r\\n74,The Leaky Cauldron,3,4\\r\\n75,In Grave Danger,3,5\\r\\n76,The Dementor,3,6\\r\\n77,Welcome and Warning,3,7\\r\\n78,Tea Leaves,3,8\\r\\n79,Buckbeak,3,9\\r\\n80,Boggart in the Wardrobe,3,10\\r\\n81,Talent for Trouble,3,11\\r\\n82,Flight of the Fat Lady,3,12\\r\\n83,Substitute Teacher,3,13\\r\\n84,Grim Defeat,3,14\\r\\n85,The Marauder\\'s Map,3,15\\r\\n86,Who\\'s There?,3,16\\r\\n87,I Hope He Finds Me,3,17\\r\\n88,The Patronus,3,18\\r\\n89,Seeing the Impossible,3,19\\r\\n90,Professor Trelawney\\'s Prediction,3,20\\r\\n91,Witnesses to an Execution,3,21\\r\\n92,The Whomping Willow,3,22\\r\\n93,Sirius Black,3,23\\r\\n94,Peter Pettigrew,3,24\\r\\n95,Friends Become Foes,3,25\\r\\n96,The Dementor\\'s Kiss,3,26\\r\\n97,Hermione\\'s Secret,3,27\\r\\n98,Onlookers to the Rescue,3,28\\r\\n99,Saving Lives,3,29\\r\\n100,\"Truly Seen, Truly Free\",3,30\\r\\n101,Two Places at Once,3,31\\r\\n102,Mischief Managed,3,32\\r\\n103,The Firebolt,3,33\\r\\n104,The Riddle House,4,1\\r\\n105,The Portkey,4,2\\r\\n106,The Quidditch World Cup,4,3\\r\\n107,The Dark Mark,4,4\\r\\n108,The Triwizard Tournament,4,5\\r\\n109,The Unforgivable Curses,4,7\\r\\n110,The Four Champions,4,8\\r\\n111,Let Events Unfold,4,9\\r\\n112,Rita Skeeter,4,10\\r\\n113,Sirius Conversation,4,11\\r\\n114,The Hungarian Horntail,4,12\\r\\n115,Transforming Malfoy,4,13\\r\\n116,The First Task,4,14\\r\\n117,Best Foot Forward,4,15\\r\\n118,An Unexpected Challenge,4,16\\r\\n119,The Yule Ball,4,17\\r\\n120,The Egg\\'s Clue,4,18\\r\\n121,The Second Task,4,19\\r\\n122,Never Whole Again,4,20\\r\\n123,The Pensieve,4,21\\r\\n124,Dreams and Suspicions,4,22\\r\\n125,The Third Task,4,23\\r\\n126,\"Flesh, Blood and Bone\",4,24\\r\\n127,The Death Eaters,4,25\\r\\n128,Priori Incantatem,4,26\\r\\n129,Veritaserum,4,27\\r\\n130,Parting Ways,4,28\\r\\n131,Dudley Demented,5,1\\r\\n132,The Advance Guard,5,2\\r\\n133,\"Number Twelve, Grimmauld Place\",5,3\\r\\n134,The Order of the Phoenix,5,4\\r\\n135,The Ministry of Magic,5,5\\r\\n136,The Hearing,5,6\\r\\n137,The Originals,5,7\\r\\n138,Luna Lovegood,5,8\\r\\n139,\"Preserve, Perfect and Prune\",5,9\\r\\n140,Professor Umbridge\\'s Class,5,10\\r\\n141,Detention With Dolores,5,11\\r\\n142,The Hogwarts High Inquisitor,5,12\\r\\n143,In the Hog\\'s Head,5,13\\r\\n144,Dumbledore\\'s Army,5,14\\r\\n145,Hagrid\\'s Tale,5,15\\r\\n146,Occlumency,5,16\\r\\n147,Unquiet Escape,5,17\\r\\n148,Grawp,5,18\\r\\n149,Snape\\'s Worst Memory,5,19\\r\\n150,Out of the Fire,5,20\\r\\n151,Fight and Flight,5,21\\r\\n152,The Department of Mysteries,5,22\\r\\n153,Beyond the Veil,5,23\\r\\n154,Side by Side,5,24\\r\\n155,Wizards Duel,5,25\\r\\n156,The Lost Prophecy,5,26\\r\\n157,A Way of Coming Back,5,27\\r\\n158,Snape\\'s Visitors,6,1\\r\\n159,Who\\'s Harry Potter?,6,2\\r\\n160,Horace Slughorn,6,3\\r\\n161,What Could Be Safer?,6,4\\r\\n162,That\\'s For My Father,6,5\\r\\n163,Dark Forces,6,6\\r\\n164,The Half Blood Prince,6,7\\r\\n165,The Secret Riddle,6,8\\r\\n166,Hermione\\'s Helping Hand,6,9\\r\\n167,Cursed Necklace,6,10\\r\\n168,Slug Club,6,11\\r\\n169,Felix Felicis,6,12\\r\\n170,How It Feels,6,13\\r\\n171,Free Agents,6,14\\r\\n172,The Unbreakable Vow,6,15\\r\\n173,Death Eaters Attack,6,16\\r\\n174,Sluggish Memory,6,17\\r\\n175,Perilous Potions,6,18\\r\\n176,Sectumsempra,6,19\\r\\n177,Hiding the Book,6,20\\r\\n178,Liquid Luck,6,21\\r\\n179,After Aragog\\'s Burial,6,22\\r\\n180,Horcruxes,6,23\\r\\n181,The Astronomy Tower,6,24\\r\\n182,Flight of the Prince,6,25\\r\\n183,R.A.B.,6,26\\r\\n184,Dark Times,7,1\\r\\n185,Dark Lord Ascending,7,2\\r\\n186,The Seven Potters,7,3\\r\\n187,Aerial Ambush,7,4\\r\\n188,Fallen Warrior,7,5\\r\\n189,Dumbledore\\'s Will,7,6\\r\\n190,The Wedding,7,7\\r\\n191,Place to Hide,7,8\\r\\n192,Kreacher\\'s Tale,7,9\\r\\n193,Theft of a Thief,7,10\\r\\n194,Ministry Interior,7,11\\r\\n195,Forest Fugitives,7,12\\r\\n196,Getting Too Close,7,13\\r\\n197,Broken Ranks,7,14\\r\\n198,Clues Revealed,7,15\\r\\n199,Godric\\'s Hollow,7,16\\r\\n200,Bathilda\\'s Secret,7,17\\r\\n201,Sword of Gryffindor,7,18\\r\\n202,Lighting the Way Back,7,19\\r\\n203,The Three Brothers,7,20\\r\\n204,The Deathly Hallows,7,21\\r\\n205,Snatchers Strike,7,22\\r\\n206,Malfoy Manor,7,23\\r\\n207,Dobby Has No Master,7,24\\r\\n208,Sleeping Friend,7,25\\r\\n209,Shell Cottage,8,1\\r\\n210,Griphook\\'s Price,8,2\\r\\n211,He\\'s After You,8,3\\r\\n212,Gringotts,8,4\\r\\n213,Copping the Cup,8,5\\r\\n214,Exit the Dragon,8,6\\r\\n215,Final Hiding Place,8,7\\r\\n216,Aberforth Dumbledore,8,8\\r\\n217,Hogwarts Reunion,8,9\\r\\n218,Give Me Harry Potter,8,10\\r\\n219,Duty To Our School,8,11\\r\\n220,You Need Only Ask,8,12\\r\\n221,Blow For Blow,8,13\\r\\n222,Finding the Diadem,8,14\\r\\n223,Fiendfyre,8,15\\r\\n224,He Will Come To Me,8,16\\r\\n225,Your Mother\\'s Eyes,8,17\\r\\n226,Confront Your Fate,8,18\\r\\n227,I Open At the Close,8,19\\r\\n228,The Boy Who Lived,8,20\\r\\n229,King\\'s Cross,8,21\\r\\n230,Declare Yourself,8,22\\r\\n231,Not Over,8,23\\r\\n232,The Wand\\'s Choice,8,24\\r\\n233,The Wizard\\'s Choice,8,25\\r\\n234,Nineteen Years Later,8,26\\r\\n']\n"
     ]
    }
   ],
   "source": [
    "# Path to your PDF file\n",
    "book_pdf = 'Downloads/Harry_Potter_Movies/Chapters.csv'\n",
    "\n",
    "content = []\n",
    "\n",
    "with open(book_pdf, 'rb') as file:  # Note the 'rb' mode for reading PDF as binary\n",
    "    content.append(file.read())\n",
    "\n",
    "print(content[:100])"
   ]
  },
  {
   "cell_type": "code",
   "execution_count": 5,
   "id": "515057ac-a367-417b-8f6a-673557d2c798",
   "metadata": {},
   "outputs": [
    {
     "name": "stderr",
     "output_type": "stream",
     "text": [
      "/Users/riyajoshi/miniconda3/lib/python3.11/site-packages/langchain_core/_api/deprecation.py:119: LangChainDeprecationWarning: The class `OpenAI` was deprecated in LangChain 0.0.10 and will be removed in 0.2.0. An updated version of the class exists in the langchain-openai package and should be used instead. To use it run `pip install -U langchain-openai` and import as `from langchain_openai import OpenAI`.\n",
      "  warn_deprecated(\n"
     ]
    },
    {
     "name": "stdout",
     "output_type": "stream",
     "text": [
      "Chapter ID,Chapter Name,Movie ID,Movie Chapter\n",
      "1,Doorstep Delivery,1,1\n",
      "2,The Vanishing Glass,1,2\n",
      "3,Letters from No One,1,3\n",
      "4,Keeper of the Keys,1,4\n",
      "5,Diagon Alley,1,5\n",
      "6,Gringotts,1,6\n",
      "7,Ollivanders,1,7\n",
      "8,The Boy Who Lived,1,8\n",
      "9,Platform 9&�,1,9\n",
      "10,Ron and Hermione,1,10\n",
      "11,Welcome to Hogwarts,1,11\n",
      "12,The Sorting Hat,1,12\n",
      "13,Nick and Other Residents,1,13\n",
      "14,Potions and Parcels,1,14\n",
      "15,New Seeker,1,15\n",
      "16,Three-Headed Sentinel,1,16\n",
      "17,Facts and Feathers,1,17\n",
      "18,Mountain Troll,1,18\n",
      "\n",
      "Number of tokens: 2532\n"
     ]
    }
   ],
   "source": [
    "from langchain.llms import OpenAI \n",
    "llm = OpenAI(api_key=\"\")\n",
    "\n",
    "# decoding bytes to string \n",
    "text_content = [item.decode('utf-8', errors='replace') if isinstance(item, bytes) else item for item in content]\n",
    "# Join the list into a single string\n",
    "text = \"\\n\".join(text_content)\n",
    "\n",
    "# check text is of type string \n",
    "print(text[:500])  \n",
    "\n",
    "# display number of tokens \n",
    "num_tokens = llm.get_num_tokens(text)\n",
    "print(f\"Number of tokens: {num_tokens}\")"
   ]
  },
  {
   "cell_type": "code",
   "execution_count": 32,
   "id": "35134456-08b7-4ebc-9911-dbbccd9bc1eb",
   "metadata": {},
   "outputs": [
    {
     "name": "stdout",
     "output_type": "stream",
     "text": [
      "Collecting pdfplumber\n",
      "  Obtaining dependency information for pdfplumber from https://files.pythonhosted.org/packages/ee/ec/315015b6c4667d889cc14348c93e31f9fd43a6f61162b85c39e4a21018d5/pdfplumber-0.11.0-py3-none-any.whl.metadata\n",
      "  Downloading pdfplumber-0.11.0-py3-none-any.whl.metadata (39 kB)\n",
      "Collecting pdfminer.six==20231228 (from pdfplumber)\n",
      "  Obtaining dependency information for pdfminer.six==20231228 from https://files.pythonhosted.org/packages/eb/9c/e46fe7502b32d7db6af6e36a9105abb93301fa1ec475b5ddcba8b35ae23a/pdfminer.six-20231228-py3-none-any.whl.metadata\n",
      "  Downloading pdfminer.six-20231228-py3-none-any.whl.metadata (4.2 kB)\n",
      "Requirement already satisfied: Pillow>=9.1 in ./miniconda3/lib/python3.11/site-packages (from pdfplumber) (10.2.0)\n",
      "Collecting pypdfium2>=4.18.0 (from pdfplumber)\n",
      "  Obtaining dependency information for pypdfium2>=4.18.0 from https://files.pythonhosted.org/packages/42/ea/ae566f67fe82884d365ec574d3105d15df7baecf96d14f25d175fdcf4e73/pypdfium2-4.29.0-py3-none-macosx_11_0_arm64.whl.metadata\n",
      "  Downloading pypdfium2-4.29.0-py3-none-macosx_11_0_arm64.whl.metadata (48 kB)\n",
      "\u001b[2K     \u001b[90m━━━━━━━━━━━━━━━━━━━━━━━━━━━━━━━━━━━━━━━━\u001b[0m \u001b[32m48.5/48.5 kB\u001b[0m \u001b[31m5.0 MB/s\u001b[0m eta \u001b[36m0:00:00\u001b[0m\n",
      "\u001b[?25hRequirement already satisfied: charset-normalizer>=2.0.0 in ./miniconda3/lib/python3.11/site-packages (from pdfminer.six==20231228->pdfplumber) (2.0.4)\n",
      "Requirement already satisfied: cryptography>=36.0.0 in ./miniconda3/lib/python3.11/site-packages (from pdfminer.six==20231228->pdfplumber) (41.0.3)\n",
      "Requirement already satisfied: cffi>=1.12 in ./miniconda3/lib/python3.11/site-packages (from cryptography>=36.0.0->pdfminer.six==20231228->pdfplumber) (1.15.1)\n",
      "Requirement already satisfied: pycparser in ./miniconda3/lib/python3.11/site-packages (from cffi>=1.12->cryptography>=36.0.0->pdfminer.six==20231228->pdfplumber) (2.21)\n",
      "Downloading pdfplumber-0.11.0-py3-none-any.whl (56 kB)\n",
      "\u001b[2K   \u001b[90m━━━━━━━━━━━━━━━━━━━━━━━━━━━━━━━━━━━━━━━━\u001b[0m \u001b[32m56.4/56.4 kB\u001b[0m \u001b[31m4.2 MB/s\u001b[0m eta \u001b[36m0:00:00\u001b[0m\n",
      "\u001b[?25hDownloading pdfminer.six-20231228-py3-none-any.whl (5.6 MB)\n",
      "\u001b[2K   \u001b[90m━━━━━━━━━━━━━━━━━━━━━━━━━━━━━━━━━━━━━━━━\u001b[0m \u001b[32m5.6/5.6 MB\u001b[0m \u001b[31m5.0 MB/s\u001b[0m eta \u001b[36m0:00:00\u001b[0ma \u001b[36m0:00:01\u001b[0mm\n",
      "\u001b[?25hDownloading pypdfium2-4.29.0-py3-none-macosx_11_0_arm64.whl (2.7 MB)\n",
      "\u001b[2K   \u001b[90m━━━━━━━━━━━━━━━━━━━━━━━━━━━━━━━━━━━━━━━━\u001b[0m \u001b[32m2.7/2.7 MB\u001b[0m \u001b[31m2.6 MB/s\u001b[0m eta \u001b[36m0:00:00\u001b[0m00:01\u001b[0m00:01\u001b[0m\n",
      "\u001b[?25hInstalling collected packages: pypdfium2, pdfminer.six, pdfplumber\n",
      "Successfully installed pdfminer.six-20231228 pdfplumber-0.11.0 pypdfium2-4.29.0\n"
     ]
    }
   ],
   "source": [
    "!pip install pdfplumber"
   ]
  },
  {
   "cell_type": "code",
   "execution_count": 22,
   "id": "b70bbfc0-a5ce-4d01-8fdd-d063af6b0fea",
   "metadata": {},
   "outputs": [],
   "source": [
    "template = \"\"\"\n",
    "Please write a one sentence summary of the following chapters:\n",
    "\n",
    "{text}\n",
    "\"\"\"\n",
    "\n",
    "prompt = PromptTemplate(\n",
    "    input_variables=[\"text\"],\n",
    "    template=template\n",
    ")"
   ]
  },
  {
   "cell_type": "code",
   "execution_count": 10,
   "id": "22a04ba0-b490-470a-bed3-4f2858a569dd",
   "metadata": {},
   "outputs": [
    {
     "name": "stdout",
     "output_type": "stream",
     "text": [
      "Chapter ID,Chapter Name,Movie ID,Movie Chapter\n",
      "1,Doorstep Delivery,1,1\n",
      "2,The Vanishing Glass,1,2\n",
      "3,Letters from No One,1,3\n",
      "4,Keeper of the Keys,1,4\n",
      "5,Diagon Alley,1,5\n",
      "6,Gringotts,1,6\n",
      "7,Ollivanders,1,7\n",
      "8,The Boy Who Lived,1,8\n",
      "9,Platform 9&�,1,9\n",
      "10,Ron and Hermione,1,10\n",
      "11,Welcome to Hogwarts,1,11\n",
      "12,The Sorting Hat,1,12\n",
      "13,Nick and Other Residents,1,13\n",
      "14,Potions and Parcels,1,14\n",
      "15,New Seeker,1,15\n",
      "16,Three-Headed Sentinel,1,16\n",
      "17,Facts and Feathers,1,17\n",
      "18,Mountain Troll,1,18\n",
      "\n",
      "Number of tokens: 2532\n"
     ]
    }
   ],
   "source": [
    "text_content = [item.decode('utf-8', errors='replace') if isinstance(item, bytes) else item for item in content]\n",
    "# Join the list into a single string\n",
    "text = \"\\n\".join(text_content)\n",
    "\n",
    "# check text is of type string \n",
    "print(text[:500])  \n",
    "\n",
    "# display number of tokens \n",
    "num_tokens = llm.get_num_tokens(text)\n",
    "print(f\"Number of tokens: {num_tokens}\")"
   ]
  },
  {
   "cell_type": "code",
   "execution_count": 12,
   "id": "267ae621-3786-4192-943a-b18517d4fc29",
   "metadata": {},
   "outputs": [
    {
     "name": "stdout",
     "output_type": "stream",
     "text": [
      "Chapter ID,Chapter Name,Movie ID,Movie Chapter\n",
      "1,Doorstep Delivery,1,1\n",
      "2,The Vanishing Glass,1,2\n",
      "\n"
     ]
    }
   ],
   "source": [
    "print(text[:100])"
   ]
  },
  {
   "cell_type": "code",
   "execution_count": 14,
   "id": "679f71ef-6205-4418-94c4-5c7747e2ce64",
   "metadata": {},
   "outputs": [
    {
     "name": "stdout",
     "output_type": "stream",
     "text": [
      "Estimated number of tokens: 634\n"
     ]
    }
   ],
   "source": [
    "def approximate_token_count(text):\n",
    "    # Very simple approximation: split the text into 'words' based on spaces and some punctuation\n",
    "    # This is a crude approximation and will not exactly match OpenAI's tokenization, which is based on BPE.\n",
    "    tokens = text.split()\n",
    "    return len(tokens)\n",
    "\n",
    "# Use the function to get an approximate token count\n",
    "text = \"\\n\".join(text_content)\n",
    "num_tokens = approximate_token_count(text)\n",
    "print(f\"Estimated number of tokens: {num_tokens}\")\n"
   ]
  },
  {
   "cell_type": "code",
   "execution_count": 17,
   "id": "a6224594-e350-4b8b-8558-b13c4b6e4d83",
   "metadata": {},
   "outputs": [
    {
     "name": "stdout",
     "output_type": "stream",
     "text": [
      "[Document(page_content='Chapter ID,Chapter Name,Movie ID,Movie Chapter\\r\\n1,Doorstep Delivery,1,1\\r\\n2,The Vanishing Glass,1,2\\r\\n3,Letters from No One,1,3\\r\\n4,Keeper of the Keys,1,4\\r\\n5,Diagon Alley,1,5\\r\\n6,Gringotts,1,6\\r\\n7,Ollivanders,1,7\\r\\n8,The Boy Who Lived,1,8\\r\\n9,Platform 9&�,1,9\\r\\n10,Ron and Hermione,1,10\\r\\n11,Welcome to Hogwarts,1,11\\r\\n12,The Sorting Hat,1,12\\r\\n13,Nick and Other Residents,1,13\\r\\n14,Potions and Parcels,1,14\\r\\n15,New Seeker,1,15\\r\\n16,Three-Headed Sentinel,1,16\\r\\n17,Facts and Feathers,1,17\\r\\n18,Mountain Troll,1,18\\r\\n19,Quidditch,1,19\\r\\n20,Interference Overcome,1,20\\r\\n21,Christmas Gift,1,21\\r\\n22,Cloaked in darkness,1,22\\r\\n23,The Mirror of Erised,1,23\\r\\n24,Norbert,1,24\\r\\n25,The Forbidden Forest,1,25\\r\\n26,Up to Something,1,26\\r\\n27,Through the Trapdoor,1,27\\r\\n28,Wizard\\'s Chess,1,28\\r\\n29,Sacrifice Play,1,29\\r\\n30,Man With Two Faces,1,30\\r\\n31,Magic Touch,1,31\\r\\n32,Mark of Love,1,32\\r\\n33,House Cup Winner,1,33\\r\\n34,Not Really Going Home,1,34\\r\\n35,In a Cage,2,1\\r\\n36,Dobby\\'s Warning,2,2\\r\\n37,Car Rescue,2,3\\r\\n38,The Burrow,2,4\\r\\n39,To Diagon Alley,2,5\\r\\n40,Flourish and Blotts,2,6\\r\\n41,Flying to Hogwarts,2,7\\r\\n42,Whomping Willow,2,8\\r\\n43,Not Expelled... Today,2,9\\r\\n44,Mandrakes; Ron\\'s Howler,2,10\\r\\n45,Gilderoy Lockhart,2,11\\r\\n46,Mudbloods and Murmurs,2,12\\r\\n47,Writing on the Wall,2,13\\r\\n48,About the Chamber,2,15\\r\\n49,Rogue Bludger,2,16\\r\\n50,No Longer Safe,2,17\\r\\n51,Dueling Club,2,18\\r\\n52,A Parselmouth,2,19\\r\\n53,Nothing to Tell,2,20\\r\\n54,Polyjuice Potion,2,21\\r\\n55,Harry and Ron Transformed,2,22\\r\\n56,The Diary,2,24\\r\\n57,Tom Riddle,2,25\\r\\n58,Petrified,2,27\\r\\n59,Cornelius Fudge,2,29\\r\\n60,Aragog,2,30\\r\\n61,Spider Attack,2,31\\r\\n62,Missing,2,32\\r\\n63,Chamber of Secrets,2,33\\r\\n64,Backfire,2,34\\r\\n65,Heir of Slytherin,2,35\\r\\n66,The Basilisk,2,36\\r\\n67,Healing Powers,2,37\\r\\n68,Out Of The Hat,2,38\\r\\n69,Dobby\\'s Reward,2,39\\r\\n70,Welcome Back,2,40\\r\\n71,Under Covers Prologue,3,1\\r\\n72,Aunt Marge\\'s Big Mistake,3,2\\r\\n73,The Knight Bus,3,3\\r\\n74,The Leaky Cauldron,3,4\\r\\n75,In Grave Danger,3,5\\r\\n76,The Dementor,3,6\\r\\n77,Welcome and Warning,3,7\\r\\n78,Tea Leaves,3,8\\r\\n79,Buckbeak,3,9\\r\\n80,Boggart in the Wardrobe,3,10\\r\\n81,Talent for Trouble,3,11\\r\\n82,Flight of the Fat Lady,3,12\\r\\n83,Substitute Teacher,3,13\\r\\n84,Grim Defeat,3,14\\r\\n85,The Marauder\\'s Map,3,15\\r\\n86,Who\\'s There?,3,16\\r\\n87,I Hope He Finds Me,3,17\\r\\n88,The Patronus,3,18\\r\\n89,Seeing the Impossible,3,19\\r\\n90,Professor Trelawney\\'s Prediction,3,20\\r\\n91,Witnesses to an Execution,3,21\\r\\n92,The Whomping Willow,3,22\\r\\n93,Sirius Black,3,23\\r\\n94,Peter Pettigrew,3,24\\r\\n95,Friends Become Foes,3,25\\r\\n96,The Dementor\\'s Kiss,3,26\\r\\n97,Hermione\\'s Secret,3,27\\r\\n98,Onlookers to the Rescue,3,28\\r\\n99,Saving Lives,3,29\\r\\n100,\"Truly Seen, Truly Free\",3,30\\r\\n101,Two Places at Once,3,31\\r\\n102,Mischief Managed,3,32\\r\\n103,The Firebolt,3,33\\r\\n104,The Riddle House,4,1\\r\\n105,The Portkey,4,2\\r\\n106,The Quidditch World Cup,4,3\\r\\n107,The Dark Mark,4,4\\r\\n108,The Triwizard Tournament,4,5\\r\\n109,The Unforgivable Curses,4,7\\r\\n110,The Four Champions,4,8\\r\\n111,Let Events Unfold,4,9\\r\\n112,Rita Skeeter,4,10\\r\\n113,Sirius Conversation,4,11\\r\\n114,The Hungarian Horntail,4,12\\r\\n115,Transforming Malfoy,4,13\\r\\n116,The First Task,4,14\\r\\n117,Best Foot Forward,4,15\\r\\n118,An Unexpected Challenge,4,16\\r\\n119,The Yule Ball,4,17\\r\\n120,The Egg\\'s Clue,4,18\\r\\n121,The Second Task,4,19\\r\\n122,Never Whole Again,4,20\\r\\n123,The Pensieve,4,21\\r\\n124,Dreams and Suspicions,4,22\\r\\n125,The Third Task,4,23\\r\\n126,\"Flesh, Blood and Bone\",4,24\\r\\n127,The Death Eaters,4,25\\r\\n128,Priori Incantatem,4,26\\r\\n129,Veritaserum,4,27\\r\\n130,Parting Ways,4,28\\r\\n131,Dudley Demented,5,1\\r\\n132,The Advance Guard,5,2\\r\\n133,\"Number Twelve, Grimmauld Place\",5,3\\r\\n134,The Order of the Phoenix,5,4\\r\\n135,The Ministry of Magic,5,5\\r\\n136,The Hearing,5,6\\r\\n137,The Originals,5,7\\r\\n138,Luna Lovegood,5,8\\r\\n139,\"Preserve, Perfect and Prune\",5,9\\r\\n140,Professor Umbridge\\'s Class,5,10\\r\\n141,Detention With Dolores,5,11\\r\\n142,The Hogwarts High Inquisitor,5,12\\r\\n143,In the Hog\\'s Head,5,13\\r\\n144,Dumbledore\\'s Army,5,14\\r\\n145,Hagrid\\'s Tale,5,15\\r\\n146,Occlumency,5,16\\r\\n147,Unquiet Escape,5,17\\r\\n148,Grawp,5,18\\r\\n149,Snape\\'s Worst Memory,5,19\\r\\n150,Out of the Fire,5,20\\r\\n151,Fight and Flight,5,21\\r\\n152,The Department of Mysteries,5,22\\r\\n153,Beyond the Veil,5,23\\r\\n154,Side by Side,5,24\\r\\n155,Wizards Duel,5,25\\r\\n156,The Lost Prophecy,5,26\\r\\n157,A Way of Coming Back,5,27\\r\\n158,Snape\\'s Visitors,6,1\\r\\n159,Who\\'s Harry Potter?,6,2\\r\\n160,Horace Slughorn,6,3\\r\\n161,What Could Be Safer?,6,4\\r\\n162,That\\'s For My Father,6,5\\r\\n163,Dark Forces,6,6\\r\\n164,The Half Blood Prince,6,7\\r\\n165,The Secret Riddle,6,8\\r\\n166,Hermione\\'s Helping Hand,6,9\\r\\n167,Cursed Necklace,6,10\\r\\n168,Slug Club,6,11\\r\\n169,Felix Felicis,6,12\\r\\n170,How It Feels,6,13\\r\\n171,Free Agents,6,14\\r\\n172,The Unbreakable Vow,6,15\\r\\n173,Death Eaters Attack,6,16\\r\\n174,Sluggish Memory,6,17\\r\\n175,Perilous Potions,6,18\\r\\n176,Sectumsempra,6,19\\r\\n177,Hiding the Book,6,20\\r\\n178,Liquid Luck,6,21\\r\\n179,After Aragog\\'s Burial,6,22\\r\\n180,Horcruxes,6,23\\r\\n181,The Astronomy Tower,6,24\\r\\n182,Flight of the Prince,6,25\\r\\n183,R.A.B.,6,26\\r\\n184,Dark Times,7,1\\r\\n185,Dark Lord Ascending,7,2\\r\\n186,The Seven Potters,7,3\\r\\n187,Aerial Ambush,7,4\\r\\n188,Fallen Warrior,7,5\\r\\n189,Dumbledore\\'s Will,7,6\\r\\n190,The Wedding,7,7\\r\\n191,Place to Hide,7,8\\r\\n192,Kreacher\\'s Tale,7,9\\r\\n193,Theft of a Thief,7,10\\r\\n194,Ministry Interior,7,11\\r\\n195,Forest Fugitives,7,12\\r\\n196,Getting Too Close,7,13\\r\\n197,Broken Ranks,7,14\\r\\n198,Clues Revealed,7,15\\r\\n199,Godric\\'s Hollow,7,16\\r\\n200,Bathilda\\'s Secret,7,17\\r\\n201,Sword of Gryffindor,7,18\\r\\n202,Lighting the Way Back,7,19\\r\\n203,The Three Brothers,7,20\\r\\n204,The Deathly Hallows,7,21\\r\\n205,Snatchers Strike,7,22\\r\\n206,Malfoy Manor,7,23\\r\\n207,Dobby Has No Master,7,24\\r\\n208,Sleeping Friend,7,25\\r\\n209,Shell Cottage,8,1\\r\\n210,Griphook\\'s Price,8,2\\r\\n211,He\\'s After You,8,3\\r\\n212,Gringotts,8,4\\r\\n213,Copping the Cup,8,5\\r\\n214,Exit the Dragon,8,6\\r\\n215,Final Hiding Place,8,7\\r\\n216,Aberforth Dumbledore,8,8\\r\\n217,Hogwarts Reunion,8,9\\r\\n218,Give Me Harry Potter,8,10\\r\\n219,Duty To Our School,8,11\\r\\n220,You Need Only Ask,8,12\\r\\n221,Blow For Blow,8,13\\r\\n222,Finding the Diadem,8,14\\r\\n223,Fiendfyre,8,15\\r\\n224,He Will Come To Me,8,16\\r\\n225,Your Mother\\'s Eyes,8,17\\r\\n226,Confront Your Fate,8,18\\r\\n227,I Open At the Close,8,19\\r\\n228,The Boy Who Lived,8,20\\r\\n229,King\\'s Cross,8,21\\r\\n230,Declare Yourself,8,22\\r\\n231,Not Over,8,23\\r\\n232,The Wand\\'s Choice,8,24\\r\\n233,The Wizard\\'s Choice,8,25\\r\\n234,Nineteen Years Later,8,26')]\n"
     ]
    }
   ],
   "source": [
    "text_splitter = RecursiveCharacterTextSplitter(separators=[\"\\n\\n\", \"\\n\"], chunk_size=10000, chunk_overlap=500)\n",
    "docs = text_splitter.create_documents([text])\n",
    "print(docs)"
   ]
  },
  {
   "cell_type": "code",
   "execution_count": 24,
   "id": "0a12415e-1dbb-4209-8870-a70552529184",
   "metadata": {},
   "outputs": [],
   "source": [
    "summary_chain = load_summarize_chain(llm=llm, chain_type='map_reduce',\n",
    "#                                      verbose=True # Set verbose=True if you want to see the prompts being used\n",
    "                                    )"
   ]
  },
  {
   "cell_type": "code",
   "execution_count": null,
   "id": "a4ed8ef4-eb68-40b0-af91-ceeecfb801ed",
   "metadata": {},
   "outputs": [],
   "source": [
    "output = summary_chain.invoke(docs[:500])"
   ]
  },
  {
   "cell_type": "code",
   "execution_count": 18,
   "id": "5966dca5-5af7-45e5-a6c0-382233001673",
   "metadata": {},
   "outputs": [],
   "source": [
    "map_prompt_template = \"\"\"\n",
    "                      Write a summary of this chunk of text that includes the main points and any important details.\n",
    "                      {text}\n",
    "                      \"\"\"\n",
    "\n",
    "map_prompt = PromptTemplate(template=map_prompt_template, input_variables=[\"text\"])\n",
    "\n",
    "combine_prompt_template = \"\"\"\n",
    "                      Write a concise summary of the following text delimited by triple backquotes.\n",
    "                      Return your response in bullet points which covers the key points of the text.\n",
    "                      ```{text}```\n",
    "                      BULLET POINT SUMMARY:\n",
    "                      \"\"\"\n",
    "\n",
    "combine_prompt = PromptTemplate(\n",
    "    template=combine_prompt_template, input_variables=[\"text\"]\n",
    ")"
   ]
  },
  {
   "cell_type": "code",
   "execution_count": 57,
   "id": "44e26eba-7220-4b93-9ece-d4ca2ecefa50",
   "metadata": {},
   "outputs": [],
   "source": [
    "# use simple sequentail or sequentail chain (ouput of 1 and input of 2 to generate output 2 etc)"
   ]
  },
  {
   "cell_type": "code",
   "execution_count": null,
   "id": "f840e908-9415-4b33-85b8-5883f1bf7aed",
   "metadata": {},
   "outputs": [],
   "source": [
    "map_reduce_chain = load_summarize_chain(\n",
    "    vertex_llm_text,\n",
    "    chain_type=\"map_reduce\",\n",
    "    map_prompt=map_prompt,\n",
    "    combine_prompt=combine_prompt,\n",
    "    return_intermediate_steps=True,\n",
    ")"
   ]
  },
  {
   "cell_type": "code",
   "execution_count": null,
   "id": "7deca75e-d879-48ee-9cb6-91a96b32edac",
   "metadata": {},
   "outputs": [],
   "source": [
    "output = summary_chain.invoke(docs)\n",
    "print(output)"
   ]
  },
  {
   "cell_type": "code",
   "execution_count": null,
   "id": "3b62fa34-d089-4c3d-99ae-318a841c65d3",
   "metadata": {},
   "outputs": [],
   "source": [
    "map_reduce_outputs = map_reduce_chain({\"input_documents\": pages})"
   ]
  },
  {
   "cell_type": "markdown",
   "id": "d8bafb02-4f02-42bb-95c8-276f75878835",
   "metadata": {},
   "source": [
    "# Sentence Transformers to Optimize Model "
   ]
  },
  {
   "cell_type": "code",
   "execution_count": 7,
   "id": "249d620f-4967-4496-97c9-e8ee0620480c",
   "metadata": {},
   "outputs": [],
   "source": [
    "from sentence_transformers import SentenceTransformer, util\n",
    "import numpy as np\n",
    "\n",
    "# Load a pre-trained Sentence Transformer model\n",
    "model = SentenceTransformer('all-MiniLM-L6-v2')\n",
    "\n",
    "# Synonym dictionary for tag normalization \n",
    "synonym_dict = {\n",
    "    \"key\": [\"value\"]\n",
    "}"
   ]
  },
  {
   "cell_type": "code",
   "execution_count": null,
   "id": "37082508-0ec9-4b3f-8ab0-8095c0d10889",
   "metadata": {},
   "outputs": [],
   "source": [
    "# Normalized Tags\n",
    "print(precompute_synonym_embeddings(synonym_dict, model))"
   ]
  },
  {
   "cell_type": "markdown",
   "id": "36cd8e6b-fd43-49a7-8c90-61b3c99639f9",
   "metadata": {},
   "source": [
    "# using Vertex AI"
   ]
  },
  {
   "cell_type": "code",
   "execution_count": null,
   "id": "1afa4856-1d01-44c7-80d6-fe30df9c65ea",
   "metadata": {},
   "outputs": [],
   "source": []
  }
 ],
 "metadata": {
  "kernelspec": {
   "display_name": "Python 3 (ipykernel)",
   "language": "python",
   "name": "python3"
  },
  "language_info": {
   "codemirror_mode": {
    "name": "ipython",
    "version": 3
   },
   "file_extension": ".py",
   "mimetype": "text/x-python",
   "name": "python",
   "nbconvert_exporter": "python",
   "pygments_lexer": "ipython3",
   "version": "3.11.5"
  }
 },
 "nbformat": 4,
 "nbformat_minor": 5
}
